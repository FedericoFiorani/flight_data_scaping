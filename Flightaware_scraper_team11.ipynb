{
 "cells": [
  {
   "cell_type": "code",
   "execution_count": 16,
   "id": "86172645",
   "metadata": {},
   "outputs": [
    {
     "name": "stdout",
     "output_type": "stream",
     "text": [
      "Requirement already satisfied: pip in c:\\users\\fedef\\anaconda3\\lib\\site-packages (21.2.4)\n",
      "Note: you may need to restart the kernel to use updated packages.\n"
     ]
    }
   ],
   "source": [
    "pip install --upgrade pip"
   ]
  },
  {
   "cell_type": "code",
   "execution_count": 15,
   "id": "d2885103",
   "metadata": {},
   "outputs": [
    {
     "name": "stdout",
     "output_type": "stream",
     "text": [
      "Requirement already satisfied: msgpack in c:\\users\\fedef\\anaconda3\\lib\\site-packages (1.0.2)\n",
      "Note: you may need to restart the kernel to use updated packages.\n"
     ]
    }
   ],
   "source": [
    "pip install msgpack"
   ]
  },
  {
   "cell_type": "code",
   "execution_count": 14,
   "id": "7eaa8e1f",
   "metadata": {},
   "outputs": [
    {
     "name": "stdout",
     "output_type": "stream",
     "text": [
      "Requirement already satisfied: selenium in c:\\users\\fedef\\anaconda3\\lib\\site-packages (3.141.0)Note: you may need to restart the kernel to use updated packages.\n",
      "Requirement already satisfied: urllib3 in c:\\users\\fedef\\anaconda3\\lib\\site-packages (from selenium) (1.26.4)\n",
      "\n"
     ]
    }
   ],
   "source": [
    "pip install selenium"
   ]
  },
  {
   "cell_type": "code",
   "execution_count": 20,
   "id": "9d4864d0",
   "metadata": {
    "scrolled": true
   },
   "outputs": [
    {
     "name": "stderr",
     "output_type": "stream",
     "text": [
      "<ipython-input-20-720801a88f6b>:7: DeprecationWarning: use options instead of chrome_options\n",
      "  driver = webdriver.Chrome(chrome_options = options, executable_path=r'C:\\chromedriver\\chromedriver.exe')\n"
     ]
    },
    {
     "name": "stdout",
     "output_type": "stream",
     "text": [
      "Chrome Browser Invoked\n"
     ]
    }
   ],
   "source": [
    "#creating link between chromedriver and selenium\n",
    "from selenium import webdriver\n",
    "from selenium.webdriver.chrome.options import Options\n",
    "\n",
    "options = Options()\n",
    "options.binary_location = \"C:\\Application Data\\Google\\Chrome\\Application\\chrome.exe\"\n",
    "driver = webdriver.Chrome(chrome_options = options, executable_path=r'C:\\chromedriver\\chromedriver.exe')\n",
    "driver.get('http://google.com/')\n",
    "print(\"Chrome Browser Invoked\")\n"
   ]
  },
  {
   "cell_type": "markdown",
   "id": "d29ea08d",
   "metadata": {},
   "source": [
    "'''\n",
    "chrome_options = webdriver.ChromeOptions()\n",
    "chrome_options.add_argument('--headless')\n",
    "chrome_options.add_argument('--no-sandbox')\n",
    "chrome_options.add_argument('--disable-dev-shm-usage')\n",
    "driver = webdriver.Chrome('chromedriver',chrome_options=chrome_options)"
   ]
  },
  {
   "cell_type": "code",
   "execution_count": 21,
   "id": "50dc53ee",
   "metadata": {},
   "outputs": [],
   "source": [
    "#directing the chromedriver towards the webpage of interest\n",
    "url = 'https://uk.flightaware.com/live/cancelled/'\n",
    "driver.get(url)\n",
    "#setting a sleeping time to add delay in the execution of the program\n",
    "import time\n",
    "time.sleep(2)"
   ]
  },
  {
   "cell_type": "code",
   "execution_count": 22,
   "id": "847fa4f4",
   "metadata": {},
   "outputs": [
    {
     "name": "stdout",
     "output_type": "stream",
     "text": [
      "You probably already clicked on the accept button!\n"
     ]
    }
   ],
   "source": [
    "#accept cookies automatically\n",
    "try:\n",
    "    driver.find_element_by_link_text('AGREE').click()\n",
    "except:\n",
    "    print('You probably already clicked on the accept button!')"
   ]
  },
  {
   "cell_type": "code",
   "execution_count": 24,
   "id": "fe30a229",
   "metadata": {},
   "outputs": [
    {
     "ename": "InvalidSelectorException",
     "evalue": "Message: invalid selector: An invalid or illegal selector was specified\n  (Session info: chrome=94.0.4606.61)\n  (Driver info: chromedriver=2.41.578737 (49da6702b16031c40d63e5618de03a32ff6c197e),platform=Windows NT 10.0.19042 x86_64)\n",
     "output_type": "error",
     "traceback": [
      "\u001b[1;31m---------------------------------------------------------------------------\u001b[0m",
      "\u001b[1;31mInvalidSelectorException\u001b[0m                  Traceback (most recent call last)",
      "\u001b[1;32m<ipython-input-24-6a6f217c01ee>\u001b[0m in \u001b[0;36m<module>\u001b[1;34m\u001b[0m\n\u001b[1;32m----> 1\u001b[1;33m \u001b[0mcookie\u001b[0m \u001b[1;33m=\u001b[0m \u001b[0mdriver\u001b[0m\u001b[1;33m.\u001b[0m\u001b[0mfind_element_by_css_selector\u001b[0m\u001b[1;33m(\u001b[0m\u001b[1;34m'button.0'\u001b[0m\u001b[1;33m)\u001b[0m\u001b[1;33m\u001b[0m\u001b[1;33m\u001b[0m\u001b[0m\n\u001b[0m",
      "\u001b[1;32m~\\anaconda3\\lib\\site-packages\\selenium\\webdriver\\remote\\webdriver.py\u001b[0m in \u001b[0;36mfind_element_by_css_selector\u001b[1;34m(self, css_selector)\u001b[0m\n\u001b[0;32m    596\u001b[0m             \u001b[0melement\u001b[0m \u001b[1;33m=\u001b[0m \u001b[0mdriver\u001b[0m\u001b[1;33m.\u001b[0m\u001b[0mfind_element_by_css_selector\u001b[0m\u001b[1;33m(\u001b[0m\u001b[1;34m'#foo'\u001b[0m\u001b[1;33m)\u001b[0m\u001b[1;33m\u001b[0m\u001b[1;33m\u001b[0m\u001b[0m\n\u001b[0;32m    597\u001b[0m         \"\"\"\n\u001b[1;32m--> 598\u001b[1;33m         \u001b[1;32mreturn\u001b[0m \u001b[0mself\u001b[0m\u001b[1;33m.\u001b[0m\u001b[0mfind_element\u001b[0m\u001b[1;33m(\u001b[0m\u001b[0mby\u001b[0m\u001b[1;33m=\u001b[0m\u001b[0mBy\u001b[0m\u001b[1;33m.\u001b[0m\u001b[0mCSS_SELECTOR\u001b[0m\u001b[1;33m,\u001b[0m \u001b[0mvalue\u001b[0m\u001b[1;33m=\u001b[0m\u001b[0mcss_selector\u001b[0m\u001b[1;33m)\u001b[0m\u001b[1;33m\u001b[0m\u001b[1;33m\u001b[0m\u001b[0m\n\u001b[0m\u001b[0;32m    599\u001b[0m \u001b[1;33m\u001b[0m\u001b[0m\n\u001b[0;32m    600\u001b[0m     \u001b[1;32mdef\u001b[0m \u001b[0mfind_elements_by_css_selector\u001b[0m\u001b[1;33m(\u001b[0m\u001b[0mself\u001b[0m\u001b[1;33m,\u001b[0m \u001b[0mcss_selector\u001b[0m\u001b[1;33m)\u001b[0m\u001b[1;33m:\u001b[0m\u001b[1;33m\u001b[0m\u001b[1;33m\u001b[0m\u001b[0m\n",
      "\u001b[1;32m~\\anaconda3\\lib\\site-packages\\selenium\\webdriver\\remote\\webdriver.py\u001b[0m in \u001b[0;36mfind_element\u001b[1;34m(self, by, value)\u001b[0m\n\u001b[0;32m    974\u001b[0m                 \u001b[0mby\u001b[0m \u001b[1;33m=\u001b[0m \u001b[0mBy\u001b[0m\u001b[1;33m.\u001b[0m\u001b[0mCSS_SELECTOR\u001b[0m\u001b[1;33m\u001b[0m\u001b[1;33m\u001b[0m\u001b[0m\n\u001b[0;32m    975\u001b[0m                 \u001b[0mvalue\u001b[0m \u001b[1;33m=\u001b[0m \u001b[1;34m'[name=\"%s\"]'\u001b[0m \u001b[1;33m%\u001b[0m \u001b[0mvalue\u001b[0m\u001b[1;33m\u001b[0m\u001b[1;33m\u001b[0m\u001b[0m\n\u001b[1;32m--> 976\u001b[1;33m         return self.execute(Command.FIND_ELEMENT, {\n\u001b[0m\u001b[0;32m    977\u001b[0m             \u001b[1;34m'using'\u001b[0m\u001b[1;33m:\u001b[0m \u001b[0mby\u001b[0m\u001b[1;33m,\u001b[0m\u001b[1;33m\u001b[0m\u001b[1;33m\u001b[0m\u001b[0m\n\u001b[0;32m    978\u001b[0m             'value': value})['value']\n",
      "\u001b[1;32m~\\anaconda3\\lib\\site-packages\\selenium\\webdriver\\remote\\webdriver.py\u001b[0m in \u001b[0;36mexecute\u001b[1;34m(self, driver_command, params)\u001b[0m\n\u001b[0;32m    319\u001b[0m         \u001b[0mresponse\u001b[0m \u001b[1;33m=\u001b[0m \u001b[0mself\u001b[0m\u001b[1;33m.\u001b[0m\u001b[0mcommand_executor\u001b[0m\u001b[1;33m.\u001b[0m\u001b[0mexecute\u001b[0m\u001b[1;33m(\u001b[0m\u001b[0mdriver_command\u001b[0m\u001b[1;33m,\u001b[0m \u001b[0mparams\u001b[0m\u001b[1;33m)\u001b[0m\u001b[1;33m\u001b[0m\u001b[1;33m\u001b[0m\u001b[0m\n\u001b[0;32m    320\u001b[0m         \u001b[1;32mif\u001b[0m \u001b[0mresponse\u001b[0m\u001b[1;33m:\u001b[0m\u001b[1;33m\u001b[0m\u001b[1;33m\u001b[0m\u001b[0m\n\u001b[1;32m--> 321\u001b[1;33m             \u001b[0mself\u001b[0m\u001b[1;33m.\u001b[0m\u001b[0merror_handler\u001b[0m\u001b[1;33m.\u001b[0m\u001b[0mcheck_response\u001b[0m\u001b[1;33m(\u001b[0m\u001b[0mresponse\u001b[0m\u001b[1;33m)\u001b[0m\u001b[1;33m\u001b[0m\u001b[1;33m\u001b[0m\u001b[0m\n\u001b[0m\u001b[0;32m    322\u001b[0m             response['value'] = self._unwrap_value(\n\u001b[0;32m    323\u001b[0m                 response.get('value', None))\n",
      "\u001b[1;32m~\\anaconda3\\lib\\site-packages\\selenium\\webdriver\\remote\\errorhandler.py\u001b[0m in \u001b[0;36mcheck_response\u001b[1;34m(self, response)\u001b[0m\n\u001b[0;32m    240\u001b[0m                 \u001b[0malert_text\u001b[0m \u001b[1;33m=\u001b[0m \u001b[0mvalue\u001b[0m\u001b[1;33m[\u001b[0m\u001b[1;34m'alert'\u001b[0m\u001b[1;33m]\u001b[0m\u001b[1;33m.\u001b[0m\u001b[0mget\u001b[0m\u001b[1;33m(\u001b[0m\u001b[1;34m'text'\u001b[0m\u001b[1;33m)\u001b[0m\u001b[1;33m\u001b[0m\u001b[1;33m\u001b[0m\u001b[0m\n\u001b[0;32m    241\u001b[0m             \u001b[1;32mraise\u001b[0m \u001b[0mexception_class\u001b[0m\u001b[1;33m(\u001b[0m\u001b[0mmessage\u001b[0m\u001b[1;33m,\u001b[0m \u001b[0mscreen\u001b[0m\u001b[1;33m,\u001b[0m \u001b[0mstacktrace\u001b[0m\u001b[1;33m,\u001b[0m \u001b[0malert_text\u001b[0m\u001b[1;33m)\u001b[0m\u001b[1;33m\u001b[0m\u001b[1;33m\u001b[0m\u001b[0m\n\u001b[1;32m--> 242\u001b[1;33m         \u001b[1;32mraise\u001b[0m \u001b[0mexception_class\u001b[0m\u001b[1;33m(\u001b[0m\u001b[0mmessage\u001b[0m\u001b[1;33m,\u001b[0m \u001b[0mscreen\u001b[0m\u001b[1;33m,\u001b[0m \u001b[0mstacktrace\u001b[0m\u001b[1;33m)\u001b[0m\u001b[1;33m\u001b[0m\u001b[1;33m\u001b[0m\u001b[0m\n\u001b[0m\u001b[0;32m    243\u001b[0m \u001b[1;33m\u001b[0m\u001b[0m\n\u001b[0;32m    244\u001b[0m     \u001b[1;32mdef\u001b[0m \u001b[0m_value_or_default\u001b[0m\u001b[1;33m(\u001b[0m\u001b[0mself\u001b[0m\u001b[1;33m,\u001b[0m \u001b[0mobj\u001b[0m\u001b[1;33m,\u001b[0m \u001b[0mkey\u001b[0m\u001b[1;33m,\u001b[0m \u001b[0mdefault\u001b[0m\u001b[1;33m)\u001b[0m\u001b[1;33m:\u001b[0m\u001b[1;33m\u001b[0m\u001b[1;33m\u001b[0m\u001b[0m\n",
      "\u001b[1;31mInvalidSelectorException\u001b[0m: Message: invalid selector: An invalid or illegal selector was specified\n  (Session info: chrome=94.0.4606.61)\n  (Driver info: chromedriver=2.41.578737 (49da6702b16031c40d63e5618de03a32ff6c197e),platform=Windows NT 10.0.19042 x86_64)\n"
     ]
    }
   ],
   "source": [
    "cookie = driver.find_element_by_css_selector('button.0')"
   ]
  },
  {
   "cell_type": "code",
   "execution_count": null,
   "id": "5223c37d",
   "metadata": {},
   "outputs": [],
   "source": [
    "#displaying the source html code\n",
    "driver.page_source"
   ]
  },
  {
   "cell_type": "markdown",
   "id": "3ba22dcc",
   "metadata": {},
   "source": [
    "Table 1: Flight cancellation by airline"
   ]
  },
  {
   "cell_type": "code",
   "execution_count": 33,
   "id": "acdb8499",
   "metadata": {},
   "outputs": [
    {
     "name": "stdout",
     "output_type": "stream",
     "text": [
      "ok\n"
     ]
    }
   ],
   "source": [
    "#locating the table\n",
    "tables1 = driver.find_elements_by_id(\"airline-cancel-table\")\n",
    "\n",
    "for table in tables1:\n",
    "    print('ok')\n",
    "\n",
    "#finding the right classes (either this way or merging the two outputs)\n",
    "all_rows1 = table.find_elements_by_class_name(\"smallrow1\")\n",
    "all_rows2 = table.find_elements_by_class_name(\"smallrow2\")\n",
    "\n",
    "all_rows = all_rows1+all_rows2\n",
    "\n",
    "# loops through all elements of the table and creating an ouput document with the data needed for table 1\n",
    "\n",
    "f = open('output1.csv', 'w', encoding = 'utf-8')\n",
    "f.write('n_cancelled\\tperc_cancelled\\tn_delayed\\tperc_delayed\\tairline_name\\n')\n",
    "\n",
    "\n",
    "for table in tables1:\n",
    "    for row in all_rows:\n",
    "        for col in row.find_elements_by_tag_name('td'):\n",
    "            f.write(col.text)\n",
    "            f.write('\\t')\n",
    "        f.write('\\n')\n",
    "f.close()"
   ]
  },
  {
   "cell_type": "markdown",
   "id": "7db9c62b",
   "metadata": {},
   "source": [
    "Table 2: Flight cancellations by origin airport"
   ]
  },
  {
   "cell_type": "code",
   "execution_count": 10,
   "id": "49608b91",
   "metadata": {},
   "outputs": [
    {
     "name": "stdout",
     "output_type": "stream",
     "text": [
      "ok\n"
     ]
    }
   ],
   "source": [
    "#locating the table\n",
    "tables2 = driver.find_elements_by_id(\"origin-cancel-table\")\n",
    "\n",
    "for table2 in tables2:\n",
    "    print('ok')\n",
    "    \n",
    "#finding the right classes (either this way or merging the two outputs)\n",
    "all_rows1 = table.find_elements_by_class_name(\"smallrow1\")\n",
    "all_rows2 = table.find_elements_by_class_name(\"smallrow2\")\n",
    "\n",
    "all_rows = all_rows1+all_rows2\n",
    "\n",
    "# loops through all elements of the table and creating an ouput document with the data needed for table 2\n",
    "\n",
    "f = open('output2.csv', 'w', encoding = 'utf-8')\n",
    "f.write('n_cancelled\\tperc_cancelled\\tn_delayed\\tperc_delayed\\tairport_name\\n')\n",
    "\n",
    "\n",
    "for table2 in tables2:\n",
    "    for row in all_rows:\n",
    "        for col in row.find_elements_by_tag_name('td'):\n",
    "            f.write(col.text)\n",
    "            f.write('\\t')\n",
    "        f.write('\\n')\n",
    "f.close()"
   ]
  },
  {
   "cell_type": "markdown",
   "id": "7bbefafa",
   "metadata": {},
   "source": [
    "For each airline, retrieve the href creating a list of them. Then, with a for loop we get into each of the liks and retreive all the data specific to the origin of the cancelled flights for each airline."
   ]
  },
  {
   "cell_type": "code",
   "execution_count": null,
   "id": "4314b9cf",
   "metadata": {},
   "outputs": [],
   "source": [
    "#navigating to the page of the first airline (question: how to print out the href?)\n",
    "urls = driver.find_element_by_link_text('China Eastern').click() #change name!!"
   ]
  },
  {
   "cell_type": "code",
   "execution_count": null,
   "id": "16c3971c",
   "metadata": {},
   "outputs": [],
   "source": [
    "#loops through all elements of the table and creating an ouput document with the airports from which the airline's delays occurred\n",
    "\n",
    "#both origin and arrival have the same class, we take every other element\n",
    "f = open('China_Eastern.csv', 'w', encoding = 'utf-8')\n",
    "f.write('Airport_origin\\n')\n",
    "\n",
    "urls = driver.find_element_by_link_text('China Eastern').click() #make loop\n",
    "    f.write('\\tChina Eastern')  #make dependent on loop\n",
    "\n",
    "#once you are in the airline-specific web page\n",
    "airports_second_page = driver.find_elements_by_class_name(\"hint\")[::2] #because every other one is the origin airport\n",
    "\n",
    "for airport in airports_second_page:\n",
    "    for span in airport.find_elements_by_tag_name('span'):\n",
    "        f.write(span.text)\n",
    "    f.write('\\n')\n",
    "f.close()"
   ]
  },
  {
   "cell_type": "markdown",
   "id": "93324f0a",
   "metadata": {},
   "source": [
    "# Automating the work so to obtain the data from all the airlines"
   ]
  },
  {
   "cell_type": "code",
   "execution_count": 7,
   "id": "7e542a9f",
   "metadata": {},
   "outputs": [
    {
     "name": "stdout",
     "output_type": "stream",
     "text": [
      "ok\n"
     ]
    },
    {
     "data": {
      "text/plain": [
       "['China Eastern',\n",
       " 'GoAir',\n",
       " 'IndiGo',\n",
       " 'Spirit',\n",
       " 'Air China',\n",
       " 'Dalian Airlines',\n",
       " 'Spring Airlines',\n",
       " 'Solaseed',\n",
       " 'Batik Air',\n",
       " 'GoJet',\n",
       " 'Solomon Airlines',\n",
       " 'Edelweiss Air AG',\n",
       " 'Air Do',\n",
       " 'Turkish Airlines',\n",
       " 'Delta',\n",
       " 'StarFlyer',\n",
       " 'Wings Air',\n",
       " 'Zhejiang Loong',\n",
       " 'Belavia',\n",
       " 'Air Astana',\n",
       " 'Horizon',\n",
       " 'Silk Way West',\n",
       " 'XiamenAir',\n",
       " 'Alitalia',\n",
       " 'Malindo Air',\n",
       " 'Unknown Owner',\n",
       " 'British Airways',\n",
       " 'Azul Brazilian Airlines',\n",
       " 'Thai Lion',\n",
       " 'SCAT Airlines',\n",
       " 'Mesa',\n",
       " 'Gol Transportes Aereos',\n",
       " 'Mahan Air',\n",
       " 'Pegas Fly',\n",
       " 'Urumqi Air',\n",
       " 'Philippine Air Lines',\n",
       " 'Air China Inner Mongolia',\n",
       " 'Caribbean Airlines',\n",
       " 'Lion Air',\n",
       " 'Saudia',\n",
       " 'Skymark',\n",
       " 'interCaribbean Airways',\n",
       " 'Air Vanuatu',\n",
       " 'Fuji Dream',\n",
       " 'American Airlines',\n",
       " 'SkyWest',\n",
       " 'Cayman Airways',\n",
       " 'AirAsia India',\n",
       " 'SAS',\n",
       " 'Sriwijaya Air',\n",
       " 'SriLankan Airlines',\n",
       " 'United',\n",
       " 'Air India',\n",
       " 'Volaris',\n",
       " 'Air New Zealand',\n",
       " 'Tianjin Airlines',\n",
       " 'El Al',\n",
       " 'Qatar Airways',\n",
       " 'LATAM',\n",
       " 'China Southern Airlines',\n",
       " 'Tway Air',\n",
       " 'Air Wisconsin',\n",
       " \"Wideroe's Flyveselskap A/s\",\n",
       " 'Blue Air',\n",
       " 'SkyUp',\n",
       " 'Southwest',\n",
       " 'Tropic Air',\n",
       " 'Hebei Airlines',\n",
       " 'China Express Airlines',\n",
       " 'Iberia',\n",
       " 'JetBlue',\n",
       " 'Kam Air',\n",
       " 'Network Aviation',\n",
       " 'Republic',\n",
       " 'BA CityFlyer']"
      ]
     },
     "execution_count": 7,
     "metadata": {},
     "output_type": "execute_result"
    }
   ],
   "source": [
    "#creating a list of all the airlines in the main page\n",
    "\n",
    "#locating the table\n",
    "tables1 = driver.find_elements_by_id(\"airline-cancel-table\")\n",
    "\n",
    "for table in tables1:\n",
    "    print('ok')\n",
    "\n",
    "#finding the right classes (either this way or merging the two outputs)\n",
    "all_rows1 = table.find_elements_by_class_name(\"smallrow1\")\n",
    "all_rows2 = table.find_elements_by_class_name(\"smallrow2\")\n",
    "\n",
    "all_rows = all_rows1+all_rows2\n",
    "\n",
    "airlines = []\n",
    "for table in tables1:\n",
    "    for row in all_rows:\n",
    "        for air in row.find_elements_by_tag_name('a'):\n",
    "            airlines.append(air.text)\n",
    "airlines"
   ]
  },
  {
   "cell_type": "code",
   "execution_count": 43,
   "id": "e85a0e45",
   "metadata": {},
   "outputs": [],
   "source": [
    "#going into each website\n",
    "f = open('Flights.csv', 'w', encoding = 'utf-8')\n",
    "f.write('Airport_origin_for_each_airline\\n')\n",
    "\n",
    "'''date = datetime.datetime.now()\n",
    "f.write('Airport_origin_for_each_airline\\t'+str(date)+'\\n') #to add date to files in place of the third line'''\n",
    "\n",
    "for air in airlines:\n",
    "    driver.find_element_by_link_text(air)\n",
    "    f.write('\\t'+ driver.find_element_by_link_text(air).text)\n",
    "    driver.find_element_by_link_text(air).click()\n",
    "    for start_plane in driver.find_elements_by_class_name(\"hint\")[::2]:\n",
    "        f.write('\\n '+start_plane.text)\n",
    "    driver.back()#after retreiving for a single airline, to return to the main page and start scraping another airline\n",
    "    time.sleep(3)\n",
    "f.close()\n",
    "\n",
    "#PROBLEM: some links change place and cannot be found at first try --> sleep time solves the problem"
   ]
  },
  {
   "cell_type": "markdown",
   "id": "cad9b7f7",
   "metadata": {},
   "source": [
    "Once the data from the tables have been retrieved, we have to loop the links so that, for each airline we can scrape the origin airports (where the cancellations happened)"
   ]
  },
  {
   "cell_type": "code",
   "execution_count": 9,
   "id": "4036e650",
   "metadata": {},
   "outputs": [],
   "source": [
    "driver.get(\"https://uk.flightaware.com/live/cancelled/\")"
   ]
  },
  {
   "cell_type": "code",
   "execution_count": 10,
   "id": "4b0d3216",
   "metadata": {},
   "outputs": [],
   "source": [
    "from bs4 import BeautifulSoup\n",
    "res = driver.page_source.encode('utf-8')\n",
    "soup = BeautifulSoup(res, \"html.parser\")"
   ]
  },
  {
   "cell_type": "code",
   "execution_count": null,
   "id": "95268b55",
   "metadata": {},
   "outputs": [],
   "source": []
  }
 ],
 "metadata": {
  "kernelspec": {
   "display_name": "Python 3",
   "language": "python",
   "name": "python3"
  },
  "language_info": {
   "codemirror_mode": {
    "name": "ipython",
    "version": 3
   },
   "file_extension": ".py",
   "mimetype": "text/x-python",
   "name": "python",
   "nbconvert_exporter": "python",
   "pygments_lexer": "ipython3",
   "version": "3.8.8"
  }
 },
 "nbformat": 4,
 "nbformat_minor": 5
}
