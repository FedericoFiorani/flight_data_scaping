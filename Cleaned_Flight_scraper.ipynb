{
 "cells": [
  {
   "cell_type": "markdown",
   "id": "a8571561",
   "metadata": {},
   "source": [
    "Installing all the packages required for the analysis"
   ]
  },
  {
   "cell_type": "code",
   "execution_count": 3,
   "id": "8d9f282b",
   "metadata": {},
   "outputs": [
    {
     "name": "stdout",
     "output_type": "stream",
     "text": [
      "Requirement already satisfied: pip in c:\\users\\fedef\\anaconda3\\lib\\site-packages (21.2.4)\n",
      "Note: you may need to restart the kernel to use updated packages.\n"
     ]
    }
   ],
   "source": [
    "pip install --upgrade pip"
   ]
  },
  {
   "cell_type": "code",
   "execution_count": 5,
   "id": "d6368f4d",
   "metadata": {},
   "outputs": [
    {
     "name": "stdout",
     "output_type": "stream",
     "text": [
      "Requirement already satisfied: msgpack in c:\\users\\fedef\\anaconda3\\lib\\site-packages (1.0.2)\n",
      "Note: you may need to restart the kernel to use updated packages.\n"
     ]
    }
   ],
   "source": [
    "pip install msgpack"
   ]
  },
  {
   "cell_type": "code",
   "execution_count": 6,
   "id": "afd8c7e9",
   "metadata": {},
   "outputs": [
    {
     "name": "stdout",
     "output_type": "stream",
     "text": [
      "Requirement already satisfied: selenium in c:\\users\\fedef\\anaconda3\\lib\\site-packages (3.141.0)\n",
      "Requirement already satisfied: urllib3 in c:\\users\\fedef\\anaconda3\\lib\\site-packages (from selenium) (1.26.4)\n",
      "Note: you may need to restart the kernel to use updated packages.\n"
     ]
    }
   ],
   "source": [
    "pip install selenium"
   ]
  },
  {
   "cell_type": "markdown",
   "id": "629c316a",
   "metadata": {},
   "source": [
    "Importing the required modules"
   ]
  },
  {
   "cell_type": "code",
   "execution_count": 62,
   "id": "fc58af91",
   "metadata": {},
   "outputs": [],
   "source": [
    "from selenium import webdriver\n",
    "from selenium.webdriver.chrome.options import Options\n",
    "import time\n",
    "from datetime import date, timedelta\n",
    "import pandas as pd"
   ]
  },
  {
   "cell_type": "markdown",
   "id": "b55f3fc8",
   "metadata": {},
   "source": [
    "Creating the link between chrome, cromedriver and selenium"
   ]
  },
  {
   "cell_type": "code",
   "execution_count": 63,
   "id": "6487744a",
   "metadata": {},
   "outputs": [
    {
     "name": "stderr",
     "output_type": "stream",
     "text": [
      "<ipython-input-63-55324ea3f24f>:3: DeprecationWarning: use options instead of chrome_options\n",
      "  driver = webdriver.Chrome(chrome_options = options, executable_path=r'C:\\chromedriver\\chromedriver.exe')\n"
     ]
    },
    {
     "name": "stdout",
     "output_type": "stream",
     "text": [
      "Chrome Browser Invoked\n"
     ]
    }
   ],
   "source": [
    "options = Options()\n",
    "options.binary_location = \"C:\\Application Data\\Google\\Chrome\\Application\\chrome.exe\"\n",
    "driver = webdriver.Chrome(chrome_options = options, executable_path=r'C:\\chromedriver\\chromedriver.exe')\n",
    "driver.get('http://google.com/')\n",
    "print(\"Chrome Browser Invoked\")"
   ]
  },
  {
   "cell_type": "markdown",
   "id": "4bab242e",
   "metadata": {},
   "source": [
    "Directing the chromedriver towards the webpage of interest: FlightAware - Cancelled flights"
   ]
  },
  {
   "cell_type": "code",
   "execution_count": 64,
   "id": "550596f6",
   "metadata": {},
   "outputs": [],
   "source": [
    "url = 'https://uk.flightaware.com/live/cancelled/'\n",
    "driver.get(url)\n",
    "#setting a sleeping time to add delay in the execution of the program\n",
    "time.sleep(3)"
   ]
  },
  {
   "cell_type": "markdown",
   "id": "c007b88d",
   "metadata": {},
   "source": [
    "Clicking accept on the cookies' widgets"
   ]
  },
  {
   "cell_type": "code",
   "execution_count": 65,
   "id": "52246a58",
   "metadata": {},
   "outputs": [],
   "source": [
    "driver.find_element_by_css_selector('button.sc-ifAKCX.ljEJIv').click()\n",
    "time.sleep(3)\n",
    "\n",
    "driver.find_element_by_css_selector('span#cookieDisclaimerButtonText').click()\n",
    "time.sleep(3)"
   ]
  },
  {
   "cell_type": "markdown",
   "id": "1a25e2cf",
   "metadata": {},
   "source": [
    "Creating a list of all the airlines present in the main page of FlightAware"
   ]
  },
  {
   "cell_type": "code",
   "execution_count": 66,
   "id": "13c50b06",
   "metadata": {},
   "outputs": [
    {
     "name": "stdout",
     "output_type": "stream",
     "text": [
      "ok\n"
     ]
    }
   ],
   "source": [
    "#locating the table\n",
    "tables1 = driver.find_elements_by_id(\"airline-cancel-table\")\n",
    "\n",
    "for table in tables1:\n",
    "    print('ok')\n",
    "\n",
    "#finding the right classes in the html script\n",
    "all_rows1 = table.find_elements_by_class_name(\"smallrow1\")\n",
    "all_rows2 = table.find_elements_by_class_name(\"smallrow2\")\n",
    "\n",
    "all_rows = all_rows1+all_rows2\n",
    "\n",
    "airlines = []\n",
    "for table in tables1:\n",
    "    for row in all_rows:\n",
    "        for air in row.find_elements_by_tag_name('a'):\n",
    "            airlines.append(air.text)"
   ]
  },
  {
   "cell_type": "code",
   "execution_count": 70,
   "id": "60c62086",
   "metadata": {},
   "outputs": [
    {
     "data": {
      "text/plain": [
       "100"
      ]
     },
     "execution_count": 70,
     "metadata": {},
     "output_type": "execute_result"
    }
   ],
   "source": [
    "len(airlines)"
   ]
  },
  {
   "cell_type": "code",
   "execution_count": null,
   "id": "a895c586",
   "metadata": {},
   "outputs": [],
   "source": [
    "print(airlines)"
   ]
  },
  {
   "cell_type": "markdown",
   "id": "a8a727d1",
   "metadata": {},
   "source": [
    "Defining the start column of the historical cancelled flights dataset"
   ]
  },
  {
   "cell_type": "code",
   "execution_count": 68,
   "id": "b41294af",
   "metadata": {},
   "outputs": [],
   "source": [
    "def initiate_file(date_today):\n",
    "    \n",
    "    date_yesterday = date_today - timedelta(days=1) #more accuracy, all the flights of the day accouted for \n",
    "    \n",
    "    url_yesterday = 'https://uk.flightaware.com/live/cancelled/yesterday'\n",
    "    driver.get(url_yesterday)\n",
    "    time.sleep(3)\n",
    "    \n",
    "    f = open('Flights.csv', 'w', encoding = 'utf-8')\n",
    "    f.write(f'{date_yesterday}\\nAirline_origin,\\tAirport_origin_for_each_airline\\n')\n",
    "\n",
    "    for air in airlines:\n",
    "        driver.find_element_by_link_text(air)\n",
    "        origin_airline = driver.find_element_by_link_text(air).text\n",
    "        driver.find_element_by_link_text(air).click()\n",
    "        \n",
    "        for start_plane in driver.find_elements_by_class_name(\"hint\")[::2]:\n",
    "                f.write(f\"{origin_airline},{start_plane.text}\\n\") #either tab or teh comma\n",
    "        \n",
    "        try: #since some airlines have multiple pages of flight cancellations\n",
    "            while True:\n",
    "                driver.find_element_by_link_text('Next 20').click()\n",
    "\n",
    "                for start_plane in driver.find_elements_by_class_name(\"hint\")[::2]: #considering every other element because we are only considering the origin\n",
    "                    f.write(f\"{origin_airline},{start_plane.text}\\n\")\n",
    "                time.sleep(3)\n",
    "\n",
    "        except:\n",
    "            driver.get(url)\n",
    "            time.sleep(3)     \n",
    "       \n",
    "        \n",
    "        time.sleep(3)\n",
    "    f.close()   "
   ]
  },
  {
   "cell_type": "markdown",
   "id": "fefb9f23",
   "metadata": {},
   "source": [
    "1. look for the yesterday's data\n",
    "2. change date\n",
    "3. delete the empty cells (R or Python)"
   ]
  },
  {
   "cell_type": "markdown",
   "id": "9714212d",
   "metadata": {},
   "source": [
    "Function to be called only one time"
   ]
  },
  {
   "cell_type": "code",
   "execution_count": 69,
   "id": "069f789d",
   "metadata": {},
   "outputs": [
    {
     "ename": "NoSuchElementException",
     "evalue": "Message: no such element: Unable to locate element: {\"method\":\"link text\",\"selector\":\"Thai Airways\"}\n  (Session info: chrome=94.0.4606.61)\n  (Driver info: chromedriver=2.41.578737 (49da6702b16031c40d63e5618de03a32ff6c197e),platform=Windows NT 10.0.19042 x86_64)\n",
     "output_type": "error",
     "traceback": [
      "\u001b[1;31m---------------------------------------------------------------------------\u001b[0m",
      "\u001b[1;31mNoSuchElementException\u001b[0m                    Traceback (most recent call last)",
      "\u001b[1;32m<ipython-input-69-981a17f123fa>\u001b[0m in \u001b[0;36m<module>\u001b[1;34m\u001b[0m\n\u001b[1;32m----> 1\u001b[1;33m \u001b[0minitiate_file\u001b[0m\u001b[1;33m(\u001b[0m\u001b[0mdate\u001b[0m\u001b[1;33m.\u001b[0m\u001b[0mtoday\u001b[0m\u001b[1;33m(\u001b[0m\u001b[1;33m)\u001b[0m\u001b[1;33m)\u001b[0m\u001b[1;33m\u001b[0m\u001b[1;33m\u001b[0m\u001b[0m\n\u001b[0m",
      "\u001b[1;32m<ipython-input-68-01065dd17381>\u001b[0m in \u001b[0;36minitiate_file\u001b[1;34m(date_today)\u001b[0m\n\u001b[0;32m     11\u001b[0m \u001b[1;33m\u001b[0m\u001b[0m\n\u001b[0;32m     12\u001b[0m     \u001b[1;32mfor\u001b[0m \u001b[0mair\u001b[0m \u001b[1;32min\u001b[0m \u001b[0mairlines\u001b[0m\u001b[1;33m:\u001b[0m\u001b[1;33m\u001b[0m\u001b[1;33m\u001b[0m\u001b[0m\n\u001b[1;32m---> 13\u001b[1;33m         \u001b[0mdriver\u001b[0m\u001b[1;33m.\u001b[0m\u001b[0mfind_element_by_link_text\u001b[0m\u001b[1;33m(\u001b[0m\u001b[0mair\u001b[0m\u001b[1;33m)\u001b[0m\u001b[1;33m\u001b[0m\u001b[1;33m\u001b[0m\u001b[0m\n\u001b[0m\u001b[0;32m     14\u001b[0m         \u001b[0morigin_airline\u001b[0m \u001b[1;33m=\u001b[0m \u001b[0mdriver\u001b[0m\u001b[1;33m.\u001b[0m\u001b[0mfind_element_by_link_text\u001b[0m\u001b[1;33m(\u001b[0m\u001b[0mair\u001b[0m\u001b[1;33m)\u001b[0m\u001b[1;33m.\u001b[0m\u001b[0mtext\u001b[0m\u001b[1;33m\u001b[0m\u001b[1;33m\u001b[0m\u001b[0m\n\u001b[0;32m     15\u001b[0m         \u001b[0mdriver\u001b[0m\u001b[1;33m.\u001b[0m\u001b[0mfind_element_by_link_text\u001b[0m\u001b[1;33m(\u001b[0m\u001b[0mair\u001b[0m\u001b[1;33m)\u001b[0m\u001b[1;33m.\u001b[0m\u001b[0mclick\u001b[0m\u001b[1;33m(\u001b[0m\u001b[1;33m)\u001b[0m\u001b[1;33m\u001b[0m\u001b[1;33m\u001b[0m\u001b[0m\n",
      "\u001b[1;32m~\\anaconda3\\lib\\site-packages\\selenium\\webdriver\\remote\\webdriver.py\u001b[0m in \u001b[0;36mfind_element_by_link_text\u001b[1;34m(self, link_text)\u001b[0m\n\u001b[0;32m    426\u001b[0m             \u001b[0melement\u001b[0m \u001b[1;33m=\u001b[0m \u001b[0mdriver\u001b[0m\u001b[1;33m.\u001b[0m\u001b[0mfind_element_by_link_text\u001b[0m\u001b[1;33m(\u001b[0m\u001b[1;34m'Sign In'\u001b[0m\u001b[1;33m)\u001b[0m\u001b[1;33m\u001b[0m\u001b[1;33m\u001b[0m\u001b[0m\n\u001b[0;32m    427\u001b[0m         \"\"\"\n\u001b[1;32m--> 428\u001b[1;33m         \u001b[1;32mreturn\u001b[0m \u001b[0mself\u001b[0m\u001b[1;33m.\u001b[0m\u001b[0mfind_element\u001b[0m\u001b[1;33m(\u001b[0m\u001b[0mby\u001b[0m\u001b[1;33m=\u001b[0m\u001b[0mBy\u001b[0m\u001b[1;33m.\u001b[0m\u001b[0mLINK_TEXT\u001b[0m\u001b[1;33m,\u001b[0m \u001b[0mvalue\u001b[0m\u001b[1;33m=\u001b[0m\u001b[0mlink_text\u001b[0m\u001b[1;33m)\u001b[0m\u001b[1;33m\u001b[0m\u001b[1;33m\u001b[0m\u001b[0m\n\u001b[0m\u001b[0;32m    429\u001b[0m \u001b[1;33m\u001b[0m\u001b[0m\n\u001b[0;32m    430\u001b[0m     \u001b[1;32mdef\u001b[0m \u001b[0mfind_elements_by_link_text\u001b[0m\u001b[1;33m(\u001b[0m\u001b[0mself\u001b[0m\u001b[1;33m,\u001b[0m \u001b[0mtext\u001b[0m\u001b[1;33m)\u001b[0m\u001b[1;33m:\u001b[0m\u001b[1;33m\u001b[0m\u001b[1;33m\u001b[0m\u001b[0m\n",
      "\u001b[1;32m~\\anaconda3\\lib\\site-packages\\selenium\\webdriver\\remote\\webdriver.py\u001b[0m in \u001b[0;36mfind_element\u001b[1;34m(self, by, value)\u001b[0m\n\u001b[0;32m    974\u001b[0m                 \u001b[0mby\u001b[0m \u001b[1;33m=\u001b[0m \u001b[0mBy\u001b[0m\u001b[1;33m.\u001b[0m\u001b[0mCSS_SELECTOR\u001b[0m\u001b[1;33m\u001b[0m\u001b[1;33m\u001b[0m\u001b[0m\n\u001b[0;32m    975\u001b[0m                 \u001b[0mvalue\u001b[0m \u001b[1;33m=\u001b[0m \u001b[1;34m'[name=\"%s\"]'\u001b[0m \u001b[1;33m%\u001b[0m \u001b[0mvalue\u001b[0m\u001b[1;33m\u001b[0m\u001b[1;33m\u001b[0m\u001b[0m\n\u001b[1;32m--> 976\u001b[1;33m         return self.execute(Command.FIND_ELEMENT, {\n\u001b[0m\u001b[0;32m    977\u001b[0m             \u001b[1;34m'using'\u001b[0m\u001b[1;33m:\u001b[0m \u001b[0mby\u001b[0m\u001b[1;33m,\u001b[0m\u001b[1;33m\u001b[0m\u001b[1;33m\u001b[0m\u001b[0m\n\u001b[0;32m    978\u001b[0m             'value': value})['value']\n",
      "\u001b[1;32m~\\anaconda3\\lib\\site-packages\\selenium\\webdriver\\remote\\webdriver.py\u001b[0m in \u001b[0;36mexecute\u001b[1;34m(self, driver_command, params)\u001b[0m\n\u001b[0;32m    319\u001b[0m         \u001b[0mresponse\u001b[0m \u001b[1;33m=\u001b[0m \u001b[0mself\u001b[0m\u001b[1;33m.\u001b[0m\u001b[0mcommand_executor\u001b[0m\u001b[1;33m.\u001b[0m\u001b[0mexecute\u001b[0m\u001b[1;33m(\u001b[0m\u001b[0mdriver_command\u001b[0m\u001b[1;33m,\u001b[0m \u001b[0mparams\u001b[0m\u001b[1;33m)\u001b[0m\u001b[1;33m\u001b[0m\u001b[1;33m\u001b[0m\u001b[0m\n\u001b[0;32m    320\u001b[0m         \u001b[1;32mif\u001b[0m \u001b[0mresponse\u001b[0m\u001b[1;33m:\u001b[0m\u001b[1;33m\u001b[0m\u001b[1;33m\u001b[0m\u001b[0m\n\u001b[1;32m--> 321\u001b[1;33m             \u001b[0mself\u001b[0m\u001b[1;33m.\u001b[0m\u001b[0merror_handler\u001b[0m\u001b[1;33m.\u001b[0m\u001b[0mcheck_response\u001b[0m\u001b[1;33m(\u001b[0m\u001b[0mresponse\u001b[0m\u001b[1;33m)\u001b[0m\u001b[1;33m\u001b[0m\u001b[1;33m\u001b[0m\u001b[0m\n\u001b[0m\u001b[0;32m    322\u001b[0m             response['value'] = self._unwrap_value(\n\u001b[0;32m    323\u001b[0m                 response.get('value', None))\n",
      "\u001b[1;32m~\\anaconda3\\lib\\site-packages\\selenium\\webdriver\\remote\\errorhandler.py\u001b[0m in \u001b[0;36mcheck_response\u001b[1;34m(self, response)\u001b[0m\n\u001b[0;32m    240\u001b[0m                 \u001b[0malert_text\u001b[0m \u001b[1;33m=\u001b[0m \u001b[0mvalue\u001b[0m\u001b[1;33m[\u001b[0m\u001b[1;34m'alert'\u001b[0m\u001b[1;33m]\u001b[0m\u001b[1;33m.\u001b[0m\u001b[0mget\u001b[0m\u001b[1;33m(\u001b[0m\u001b[1;34m'text'\u001b[0m\u001b[1;33m)\u001b[0m\u001b[1;33m\u001b[0m\u001b[1;33m\u001b[0m\u001b[0m\n\u001b[0;32m    241\u001b[0m             \u001b[1;32mraise\u001b[0m \u001b[0mexception_class\u001b[0m\u001b[1;33m(\u001b[0m\u001b[0mmessage\u001b[0m\u001b[1;33m,\u001b[0m \u001b[0mscreen\u001b[0m\u001b[1;33m,\u001b[0m \u001b[0mstacktrace\u001b[0m\u001b[1;33m,\u001b[0m \u001b[0malert_text\u001b[0m\u001b[1;33m)\u001b[0m\u001b[1;33m\u001b[0m\u001b[1;33m\u001b[0m\u001b[0m\n\u001b[1;32m--> 242\u001b[1;33m         \u001b[1;32mraise\u001b[0m \u001b[0mexception_class\u001b[0m\u001b[1;33m(\u001b[0m\u001b[0mmessage\u001b[0m\u001b[1;33m,\u001b[0m \u001b[0mscreen\u001b[0m\u001b[1;33m,\u001b[0m \u001b[0mstacktrace\u001b[0m\u001b[1;33m)\u001b[0m\u001b[1;33m\u001b[0m\u001b[1;33m\u001b[0m\u001b[0m\n\u001b[0m\u001b[0;32m    243\u001b[0m \u001b[1;33m\u001b[0m\u001b[0m\n\u001b[0;32m    244\u001b[0m     \u001b[1;32mdef\u001b[0m \u001b[0m_value_or_default\u001b[0m\u001b[1;33m(\u001b[0m\u001b[0mself\u001b[0m\u001b[1;33m,\u001b[0m \u001b[0mobj\u001b[0m\u001b[1;33m,\u001b[0m \u001b[0mkey\u001b[0m\u001b[1;33m,\u001b[0m \u001b[0mdefault\u001b[0m\u001b[1;33m)\u001b[0m\u001b[1;33m:\u001b[0m\u001b[1;33m\u001b[0m\u001b[1;33m\u001b[0m\u001b[0m\n",
      "\u001b[1;31mNoSuchElementException\u001b[0m: Message: no such element: Unable to locate element: {\"method\":\"link text\",\"selector\":\"Thai Airways\"}\n  (Session info: chrome=94.0.4606.61)\n  (Driver info: chromedriver=2.41.578737 (49da6702b16031c40d63e5618de03a32ff6c197e),platform=Windows NT 10.0.19042 x86_64)\n"
     ]
    }
   ],
   "source": [
    "initiate_file(date.today())"
   ]
  },
  {
   "cell_type": "markdown",
   "id": "b3f961e5",
   "metadata": {},
   "source": [
    "Defining the function to append the data from each airline, everyday"
   ]
  },
  {
   "cell_type": "code",
   "execution_count": 35,
   "id": "c5f9ebd5",
   "metadata": {},
   "outputs": [],
   "source": [
    "def get_data(date_today):\n",
    "    \n",
    "    date_yesterday = date_today - timedelta(days=1) #more accuracy, all the flights of the day accouted for \n",
    "    \n",
    "    url_yesterday = 'https://uk.flightaware.com/live/cancelled/yesterday'\n",
    "    driver.get(url_yesterday)\n",
    "    \n",
    "    f = open('Flights.csv', 'a', encoding = 'utf-8')\n",
    "\n",
    "    f.write(f'{date_yesterday}\\nAirline_origin,\\tAirport_origin_for_each_airline\\n')\n",
    "\n",
    "    for air in airlines:\n",
    "        driver.find_element_by_link_text(air)\n",
    "        origin_airline = driver.find_element_by_link_text(air).text\n",
    "        driver.find_element_by_link_text(air).click()\n",
    "        \n",
    "        for start_plane in driver.find_elements_by_class_name(\"hint\")[::2]:\n",
    "                f.write(f\"{origin_airline},{start_plane.text}\\n\") #either tab or teh comma\n",
    "        \n",
    "        try: #since some airlines have multiple pages of flight cancellations\n",
    "            while True:\n",
    "                driver.find_element_by_link_text('Next 20').click()\n",
    "\n",
    "                for start_plane in driver.find_elements_by_class_name(\"hint\")[::2]: #considering every other element because we are only considering the origin\n",
    "                    f.write(f\"{origin_airline},{start_plane.text}\\n\")\n",
    "                time.sleep(3)\n",
    "\n",
    "        except:\n",
    "            driver.get(url)\n",
    "            time.sleep(3)     \n",
    "       \n",
    "        \n",
    "        time.sleep(3)\n",
    "    f.close()   "
   ]
  },
  {
   "cell_type": "markdown",
   "id": "0355c5ce",
   "metadata": {},
   "source": [
    "Function to be called everyday at anytime  e.g. 12:00 a.m. because the data are from yesterday"
   ]
  },
  {
   "cell_type": "code",
   "execution_count": null,
   "id": "7381fc71",
   "metadata": {},
   "outputs": [],
   "source": [
    "get_data(date.today())"
   ]
  },
  {
   "cell_type": "markdown",
   "id": "7a3ab455",
   "metadata": {},
   "source": [
    "Preview of the content of the cvs file"
   ]
  },
  {
   "cell_type": "code",
   "execution_count": 33,
   "id": "0097f0a5",
   "metadata": {},
   "outputs": [
    {
     "data": {
      "text/html": [
       "<div>\n",
       "<style scoped>\n",
       "    .dataframe tbody tr th:only-of-type {\n",
       "        vertical-align: middle;\n",
       "    }\n",
       "\n",
       "    .dataframe tbody tr th {\n",
       "        vertical-align: top;\n",
       "    }\n",
       "\n",
       "    .dataframe thead th {\n",
       "        text-align: right;\n",
       "    }\n",
       "</style>\n",
       "<table border=\"1\" class=\"dataframe\">\n",
       "  <thead>\n",
       "    <tr style=\"text-align: right;\">\n",
       "      <th></th>\n",
       "      <th>2021-10-13</th>\n",
       "    </tr>\n",
       "  </thead>\n",
       "  <tbody>\n",
       "    <tr>\n",
       "      <th>0</th>\n",
       "      <td>Airline_origin\\tAirport_origin_for_each_airline</td>\n",
       "    </tr>\n",
       "    <tr>\n",
       "      <th>1</th>\n",
       "      <td>China Eastern,\\tQingdao Jiaodong Int'l</td>\n",
       "    </tr>\n",
       "    <tr>\n",
       "      <th>2</th>\n",
       "      <td>China Eastern,\\tXishuangbanna Gasa</td>\n",
       "    </tr>\n",
       "    <tr>\n",
       "      <th>3</th>\n",
       "      <td>China Eastern,\\tChengdu Shuangliu Int'l</td>\n",
       "    </tr>\n",
       "    <tr>\n",
       "      <th>4</th>\n",
       "      <td>China Eastern,\\tShenzhen Bao'an Int'l</td>\n",
       "    </tr>\n",
       "    <tr>\n",
       "      <th>5</th>\n",
       "      <td>China Eastern,\\tChangzhou Benniu</td>\n",
       "    </tr>\n",
       "    <tr>\n",
       "      <th>6</th>\n",
       "      <td>China Eastern,\\tHarbin Taiping Int'l</td>\n",
       "    </tr>\n",
       "    <tr>\n",
       "      <th>7</th>\n",
       "      <td>China Eastern,\\tYinchuan Helanshan</td>\n",
       "    </tr>\n",
       "    <tr>\n",
       "      <th>8</th>\n",
       "      <td>China Eastern,\\tShenzhen Bao'an Int'l</td>\n",
       "    </tr>\n",
       "    <tr>\n",
       "      <th>9</th>\n",
       "      <td>China Eastern,\\tXi'an Xianyang Int'l</td>\n",
       "    </tr>\n",
       "  </tbody>\n",
       "</table>\n",
       "</div>"
      ],
      "text/plain": [
       "                                        2021-10-13\n",
       "0  Airline_origin\\tAirport_origin_for_each_airline\n",
       "1           China Eastern,\\tQingdao Jiaodong Int'l\n",
       "2               China Eastern,\\tXishuangbanna Gasa\n",
       "3          China Eastern,\\tChengdu Shuangliu Int'l\n",
       "4            China Eastern,\\tShenzhen Bao'an Int'l\n",
       "5                 China Eastern,\\tChangzhou Benniu\n",
       "6             China Eastern,\\tHarbin Taiping Int'l\n",
       "7               China Eastern,\\tYinchuan Helanshan\n",
       "8            China Eastern,\\tShenzhen Bao'an Int'l\n",
       "9             China Eastern,\\tXi'an Xianyang Int'l"
      ]
     },
     "execution_count": 33,
     "metadata": {},
     "output_type": "execute_result"
    }
   ],
   "source": [
    "df = pd.read_csv(\"Flights.csv\", sep=\";\") # work on the separator\n",
    "# shows top 10 rows\n",
    "df.head(10)"
   ]
  },
  {
   "cell_type": "code",
   "execution_count": 1,
   "id": "6a3adeb8",
   "metadata": {},
   "outputs": [
    {
     "name": "stdout",
     "output_type": "stream",
     "text": [
      "C:\\Users\\fedef\\anaconda3\n"
     ]
    }
   ],
   "source": [
    "import os, sys\n",
    "print(os.path.dirname(sys.executable))"
   ]
  }
 ],
 "metadata": {
  "kernelspec": {
   "display_name": "Python 3",
   "language": "python",
   "name": "python3"
  },
  "language_info": {
   "codemirror_mode": {
    "name": "ipython",
    "version": 3
   },
   "file_extension": ".py",
   "mimetype": "text/x-python",
   "name": "python",
   "nbconvert_exporter": "python",
   "pygments_lexer": "ipython3",
   "version": "3.8.8"
  }
 },
 "nbformat": 4,
 "nbformat_minor": 5
}
